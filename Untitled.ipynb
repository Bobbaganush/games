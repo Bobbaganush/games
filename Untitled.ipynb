{
 "cells": [
  {
   "cell_type": "code",
   "execution_count": 6,
   "metadata": {},
   "outputs": [],
   "source": [
    "def appender(x,y,x_p,y_p):\n",
    "    list = [(x,y)]\n",
    "    while x != x_p or y != y_p:\n",
    "        if abs(x - x_p) > abs(y - y_p): \n",
    "            if x > x_p:\n",
    "                x -= 1\n",
    "            elif x < x_p:\n",
    "                x += 1\n",
    "        else:\n",
    "            if y > y_p:\n",
    "                y -= 1\n",
    "            elif y < y_p:\n",
    "                y += 1\n",
    "        list.append((x,y))\n",
    "        print \"x: \" + str(x)\n",
    "        print \"y: \" + str(y)\n",
    "    return list"
   ]
  },
  {
   "cell_type": "code",
   "execution_count": 9,
   "metadata": {},
   "outputs": [
    {
     "name": "stdout",
     "output_type": "stream",
     "text": [
      "x: 1\n",
      "y: 2\n",
      "x: 1\n",
      "y: 3\n",
      "x: 1\n",
      "y: 4\n",
      "x: 2\n",
      "y: 4\n",
      "x: 2\n",
      "y: 5\n",
      "x: 3\n",
      "y: 5\n"
     ]
    },
    {
     "data": {
      "text/plain": [
       "[(1, 1), (1, 2), (1, 3), (1, 4), (2, 4), (2, 5), (3, 5)]"
      ]
     },
     "execution_count": 9,
     "metadata": {},
     "output_type": "execute_result"
    }
   ],
   "source": [
    "appender(1,1,3,5)"
   ]
  },
  {
   "cell_type": "code",
   "execution_count": null,
   "metadata": {},
   "outputs": [],
   "source": []
  }
 ],
 "metadata": {
  "kernelspec": {
   "display_name": "Python 2",
   "language": "python",
   "name": "python2"
  },
  "language_info": {
   "codemirror_mode": {
    "name": "ipython",
    "version": 2
   },
   "file_extension": ".py",
   "mimetype": "text/x-python",
   "name": "python",
   "nbconvert_exporter": "python",
   "pygments_lexer": "ipython2",
   "version": "2.7.14"
  }
 },
 "nbformat": 4,
 "nbformat_minor": 2
}
